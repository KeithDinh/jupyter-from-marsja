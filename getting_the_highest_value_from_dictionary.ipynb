{
 "cells": [
  {
   "cell_type": "markdown",
   "id": "c9f8598c",
   "metadata": {},
   "source": [
    "## Getting the Maximum Value in a Dictionary in Python\n",
    "\n",
    "In this Jupyter Notebook, the code examples for the blog post on [finding the highest value in a dictionary in Python](https://www.marsja.se/find-highest-value-in-dictionary-python) are provided. The Notebook serves as a practical resource, allowing you to directly access and explore the code implementations discussed in the post. Each code example demonstrates a different method for finding the highest value in a dictionary, providing you with hands-on experience and a clear understanding of the concepts presented. You can run the code snippets, modify them, and observe the results firsthand. With this interactive Notebook, you have a convenient platform to experiment with the code and enhance your understanding of finding the highest value in a dictionary in Python.\n"
   ]
  },
  {
   "cell_type": "markdown",
   "id": "03c4f761",
   "metadata": {},
   "source": [
    "## Creating a Python Dictionary\n",
    "First we create a Python dictionary to practice getting the highest value."
   ]
  },
  {
   "cell_type": "code",
   "execution_count": 1,
   "id": "bf16e57a",
   "metadata": {},
   "outputs": [
    {
     "data": {
      "text/plain": [
       "{'Python': 85,\n",
       " 'Java': 70,\n",
       " 'JavaScript': 65,\n",
       " 'C++': 55,\n",
       " 'C#': 45,\n",
       " 'Ruby': 35,\n",
       " 'Go': 30}"
      ]
     },
     "execution_count": 1,
     "metadata": {},
     "output_type": "execute_result"
    }
   ],
   "source": [
    "# Create a dictionary of programming languages and their popularity\n",
    "programming_languages = {\n",
    "    \"Python\": 85,\n",
    "    \"Java\": 70,\n",
    "    \"JavaScript\": 65,\n",
    "    \"C++\": 55,\n",
    "    \"C#\": 45,\n",
    "    \"Ruby\": 35,\n",
    "    \"Go\": 30\n",
    "}\n",
    "programming_languages"
   ]
  },
  {
   "cell_type": "markdown",
   "id": "cd6d0177",
   "metadata": {},
   "source": [
    "## Find the Highest Value using max() and .values()"
   ]
  },
  {
   "cell_type": "code",
   "execution_count": 2,
   "id": "7d3e5181",
   "metadata": {},
   "outputs": [
    {
     "name": "stdout",
     "output_type": "stream",
     "text": [
      "The highest value in the dictionary is: 85\n"
     ]
    }
   ],
   "source": [
    "# Find the highest value in the dictionary\n",
    "highest_value = max(programming_languages.values())\n",
    "print(\"The highest value in the dictionary is:\", highest_value)"
   ]
  },
  {
   "cell_type": "markdown",
   "id": "1e183bdc",
   "metadata": {},
   "source": [
    "## Find the Key of the Highst Value"
   ]
  },
  {
   "cell_type": "code",
   "execution_count": 3,
   "id": "3673d5d2",
   "metadata": {},
   "outputs": [
    {
     "name": "stdout",
     "output_type": "stream",
     "text": [
      "The maximum value in the dictionary is: Python\n"
     ]
    }
   ],
   "source": [
    "# Find the maximum value in the dictionary using the key parameter\n",
    "max_value = max(programming_languages, key=programming_languages.get)\n",
    "print(\"The maximum value in the dictionary is:\", max_value)\n"
   ]
  },
  {
   "cell_type": "markdown",
   "id": "2e9ebfaa",
   "metadata": {},
   "source": [
    "## Find the Highest value using Sorted and Lamdbda:"
   ]
  },
  {
   "cell_type": "code",
   "execution_count": 4,
   "id": "bbf8f68e",
   "metadata": {},
   "outputs": [
    {
     "name": "stdout",
     "output_type": "stream",
     "text": [
      "The highest value in the dictionary is: 85\n"
     ]
    }
   ],
   "source": [
    "# Find the maximum value in the dictionary\n",
    "max_value = sorted(programming_languages.items(),\n",
    "                   key=lambda x: x[1], reverse=True)[0][1]\n",
    "print(\"The highest value in the dictionary is:\", max_value)\n"
   ]
  },
  {
   "cell_type": "markdown",
   "id": "9640a22c",
   "metadata": {},
   "source": [
    "## Find the Key(s) with the Highest Value\n",
    "This code will find multiple keys if they have the same value:"
   ]
  },
  {
   "cell_type": "code",
   "execution_count": 5,
   "id": "6fb21f4b",
   "metadata": {},
   "outputs": [
    {
     "name": "stdout",
     "output_type": "stream",
     "text": [
      "The highest value(s) in the dictionary is/are: ['Python']\n"
     ]
    }
   ],
   "source": [
    "# Find all keys with the highest value in the dictionary\n",
    "max_value = max(programming_languages.values())\n",
    "highest_keys = [key for key, value in programming_languages.items() if value == max_value]\n",
    "print(\"The highest value(s) in the dictionary is/are:\", highest_keys)\n"
   ]
  },
  {
   "cell_type": "markdown",
   "id": "0a3ed6cd",
   "metadata": {},
   "source": [
    "## Get Highest Value using Collections"
   ]
  },
  {
   "cell_type": "code",
   "execution_count": 6,
   "id": "8ae77c28",
   "metadata": {},
   "outputs": [
    {
     "name": "stdout",
     "output_type": "stream",
     "text": [
      "The highest value in the dictionary is: 85\n"
     ]
    }
   ],
   "source": [
    "import collections\n",
    "\n",
    "max_value = collections.Counter(programming_languages).most_common(1)[0][1]\n",
    "print(\"The highest value in the dictionary is:\", max_value)\n"
   ]
  },
  {
   "cell_type": "markdown",
   "id": "f085c73c",
   "metadata": {},
   "source": [
    "## Pandas Example"
   ]
  },
  {
   "cell_type": "code",
   "execution_count": 7,
   "id": "74355af8",
   "metadata": {},
   "outputs": [
    {
     "name": "stdout",
     "output_type": "stream",
     "text": [
      "The highest value in the dictionary is: 85\n"
     ]
    }
   ],
   "source": [
    "import pandas as pd\n",
    "\n",
    "df = pd.DataFrame(programming_languages.items(), columns=['Language', 'Popularity'])\n",
    "max_value = df['Popularity'].max()\n",
    "print(\"The highest value in the dictionary is:\", max_value)\n"
   ]
  },
  {
   "cell_type": "markdown",
   "id": "a129e739",
   "metadata": {},
   "source": [
    "## Efficiency\n",
    "Below is the code for creating a large dict and then checking the efficiency of each method. Note that the numbers might differ from those in the blog post."
   ]
  },
  {
   "cell_type": "code",
   "execution_count": 8,
   "id": "afc3614e",
   "metadata": {},
   "outputs": [
    {
     "name": "stdout",
     "output_type": "stream",
     "text": [
      "Execution time for Method 1: 0.1287856101989746\n",
      "Execution time for Method 2: 0.3207378387451172\n",
      "Execution time for Method 3: 0.6911582946777344\n",
      "Execution time for Method 4: 3.8325955867767334\n"
     ]
    }
   ],
   "source": [
    "import time\n",
    "import collections\n",
    "import pandas as pd\n",
    "\n",
    "# Generate a large dictionary\n",
    "large_dict = {i: i * 2 for i in range(10000000)}\n",
    "\n",
    "# Method 1:\n",
    "start_time_method1 = time.time()\n",
    "max_value_method1 = max(large_dict.values())\n",
    "end_time_method1 = time.time()\n",
    "execution_time_method1 = end_time_method1 - start_time_method1\n",
    "\n",
    "# Method 2:\n",
    "start_time_method2 = time.time()\n",
    "max_value_method2 = sorted(large_dict.values())[-1]\n",
    "end_time_method2 = time.time()\n",
    "execution_time_method2 = end_time_method2 - start_time_method2\n",
    "\n",
    "# Method 3:\n",
    "start_time_method3 = time.time()\n",
    "max_value_method3 = collections.Counter(large_dict).most_common(1)[0][1]\n",
    "end_time_method3 = time.time()\n",
    "execution_time_method3 = end_time_method3 - start_time_method3\n",
    "\n",
    "# Method 4:\n",
    "start_time_method4 = time.time()\n",
    "df = pd.DataFrame(large_dict.items(), columns=['Key', 'Value'])\n",
    "max_value_method4 = df['Value'].max()\n",
    "end_time_method4 = time.time()\n",
    "execution_time_method4 = end_time_method4 - start_time_method4\n",
    "\n",
    "# Print the execution times for each method\n",
    "print(\"Execution time for Method 1:\", execution_time_method1)\n",
    "print(\"Execution time for Method 2:\", execution_time_method2)\n",
    "print(\"Execution time for Method 3:\", execution_time_method3)\n",
    "print(\"Execution time for Method 4:\", execution_time_method4)\n"
   ]
  }
 ],
 "metadata": {
  "kernelspec": {
   "display_name": "Python 3 (ipykernel)",
   "language": "python",
   "name": "python3"
  },
  "language_info": {
   "codemirror_mode": {
    "name": "ipython",
    "version": 3
   },
   "file_extension": ".py",
   "mimetype": "text/x-python",
   "name": "python",
   "nbconvert_exporter": "python",
   "pygments_lexer": "ipython3",
   "version": "3.10.11"
  }
 },
 "nbformat": 4,
 "nbformat_minor": 5
}
